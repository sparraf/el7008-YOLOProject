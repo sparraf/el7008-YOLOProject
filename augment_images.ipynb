{
 "cells": [
  {
   "cell_type": "code",
   "execution_count": 1,
   "metadata": {},
   "outputs": [],
   "source": [
    "import numpy as np\n",
    "import cv2\n",
    "import imgaug as ia\n",
    "from imgaug import augmenters as iaa\n",
    "import pandas as pd\n",
    "\n",
    "from tqdm import tqdm\n",
    "import time\n",
    "\n",
    "millis = np.uint16(round(time.time() * 1000))\n",
    "\n",
    "ia.seed(millis)"
   ]
  },
  {
   "cell_type": "code",
   "execution_count": 2,
   "metadata": {},
   "outputs": [],
   "source": [
    "img_dir = './examples/example_{}.png'\n",
    "bbox_dir = './examples/example_{}.txt'\n",
    "\n",
    "aug_img_dir = './aug/aug_example_{}.png'\n",
    "aug_bbox_dir = './aug/aug_example_{}.txt'\n",
    "\n",
    "n_examples = 1500"
   ]
  },
  {
   "cell_type": "code",
   "execution_count": 3,
   "metadata": {},
   "outputs": [],
   "source": [
    "class YOLOBbox:\n",
    "    \n",
    "    def __init__(self, yolo_class=None, center_x=None, center_y=None, width=None, height=None, img_width=None,\n",
    "                 img_height=None):\n",
    "        # YOLO bbox coordingates\n",
    "        self.yolo_class = int(yolo_class)\n",
    "        self.center_x = center_x\n",
    "        self.center_y = center_y\n",
    "        self.width = width\n",
    "        self.height = height\n",
    "        \n",
    "        # Source image dimensions\n",
    "        self.img_width = img_width\n",
    "        self.img_height = img_height\n",
    "        \n",
    "        # imgaug bbox coordinates\n",
    "        self.x1 = (center_x - width/2) * img_width\n",
    "        self.x2 = (center_x + width/2) * img_width\n",
    "        self.y1 = (center_y - height/2) * img_height\n",
    "        self.y2 = (center_y + height/2) * img_height\n",
    "        \n",
    "    \n",
    "    def get_YOLO_bbox(self):\n",
    "        return [self.yolo_class, self.center_x, self.center_y, self.width, self.height]\n",
    "    \n",
    "    \n",
    "    def get_imgaug_bbox(self):\n",
    "        return ia.BoundingBox(self.x1, self.y1, self.x2, self.y2)\n",
    "    \n",
    "    \n",
    "    def update(self, augmented_bbox):\n",
    "        self.x1 = augmented_bbox.x1_int\n",
    "        self.x2 = augmented_bbox.x2_int\n",
    "        self.y1 = augmented_bbox.y1_int\n",
    "        self.y2 = augmented_bbox.y2_int\n",
    "        \n",
    "        self.center_x = np.float32(augmented_bbox.center_x / self.img_width)\n",
    "        self.center_y = np.float32(augmented_bbox.center_y / self.img_height)\n",
    "        self.width = np.float32(augmented_bbox.width / self.img_width)\n",
    "        self.height = np.float32(augmented_bbox.height / self.img_height)\n",
    "        \n",
    "        \n",
    "def read_txt_bboxes(bbox_path, img_width, img_height):\n",
    "    bboxes = []\n",
    "    bboxes_df = pd.read_csv(bbox_path, delim_whitespace=True, header=None,\n",
    "                            names=['class', 'x', 'y', 'width', 'height'])\n",
    "    bboxes_arr = bboxes_df.values\n",
    "    for bbox in bboxes_arr:\n",
    "        yolo_class = bbox[0]\n",
    "        x = bbox[1]\n",
    "        y = bbox[2]\n",
    "        width = bbox[3]\n",
    "        height = bbox[4]\n",
    "        bboxes.append(YOLOBbox(yolo_class, x, y, width, height, img_width, img_height))\n",
    "    return bboxes\n",
    "\n",
    "\n",
    "def read_img_and_bboxes(img_path, bbox_path):\n",
    "    img = cv2.imread(img_path)\n",
    "    bboxes = read_txt_bboxes(bbox_path, img.shape[1], img.shape[0])\n",
    "    return img, bboxes"
   ]
  },
  {
   "cell_type": "code",
   "execution_count": 4,
   "metadata": {},
   "outputs": [],
   "source": [
    "# Create augmentation sequence\n",
    "seq = iaa.Sequential([\n",
    "    iaa.Fliplr(0.5),\n",
    "    iaa.Multiply((0.6, 1.2), per_channel=0.0),\n",
    "    iaa.ContrastNormalization((0.5, 1.25)),\n",
    "    iaa.Grayscale(alpha=(0.0, 0.5)),\n",
    "    iaa.Sometimes(0.4,\n",
    "                 iaa.Sharpen(alpha=(0, 0.65), lightness=(0.75, 1.15))\n",
    "                 ),\n",
    "    iaa.Sometimes(0.5,\n",
    "                 iaa.GaussianBlur(sigma=(0, 1.0))\n",
    "                 ),\n",
    "    iaa.AdditiveGaussianNoise(loc=0, scale=(0.0, 0.05*255), per_channel=0.0),\n",
    "    iaa.Sometimes(0.5,\n",
    "                 iaa.Affine(\n",
    "                     scale={\"x\": (0.5, 1.2), \"y\": (0.5, 1.2)},\n",
    "                     translate_percent={\"x\": (-0.2, 0.2), \"y\": (-0.2, 0.2)},\n",
    "                     rotate=(-30, 30),\n",
    "                 ))\n",
    "], random_order=True)"
   ]
  },
  {
   "cell_type": "code",
   "execution_count": 5,
   "metadata": {},
   "outputs": [
    {
     "name": "stderr",
     "output_type": "stream",
     "text": [
      "100%|██████████| 7500/7500 [1:56:23<00:00,  1.07it/s]  \n"
     ]
    }
   ],
   "source": [
    "# Augment images\n",
    "for k in tqdm(range(n_examples*5)):\n",
    "    i = k % n_examples\n",
    "    img_path = img_dir.format(i)\n",
    "    bbox_path = bbox_dir.format(i)\n",
    "    \n",
    "    img, bboxes = read_img_and_bboxes(img_path, bbox_path)\n",
    "    bbs = ia.BoundingBoxesOnImage([\n",
    "        bbox.get_imgaug_bbox() for bbox in bboxes\n",
    "    ], shape=img.shape)\n",
    "    \n",
    "    seq_det = seq.to_deterministic()\n",
    "    \n",
    "    img_aug = seq_det.augment_images([img])[0]\n",
    "    bbs_aug = seq_det.augment_bounding_boxes([bbs])[0].remove_out_of_image().cut_out_of_image()\n",
    "    \n",
    "    aug_bboxes = []\n",
    "    for j in range(len(bbs_aug.bounding_boxes)):\n",
    "        bboxes[j].update(bbs_aug.bounding_boxes[j])\n",
    "        aug_bboxes.append(bboxes[j])\n",
    "    \n",
    "    new_bboxes = []\n",
    "    for bbox in aug_bboxes:\n",
    "        new_bboxes.append(bbox.get_YOLO_bbox())\n",
    "    new_bboxes = np.array(new_bboxes)\n",
    "\n",
    "    new_bboxes_df = pd.DataFrame(new_bboxes, dtype=np.float32)\n",
    "    new_bboxes_df[0] = pd.to_numeric(new_bboxes_df[0], downcast='integer')\n",
    "\n",
    "    # Write augmented image and bounding boxes\n",
    "    cv2.imwrite(aug_img_dir.format(k), img_aug)\n",
    "    new_bboxes_df.to_csv(aug_bbox_dir.format(k), sep=' ', header=False, index=False)"
   ]
  },
  {
   "cell_type": "code",
   "execution_count": null,
   "metadata": {},
   "outputs": [],
   "source": []
  },
  {
   "cell_type": "code",
   "execution_count": null,
   "metadata": {},
   "outputs": [],
   "source": []
  }
 ],
 "metadata": {
  "kernelspec": {
   "display_name": "Python 3",
   "language": "python",
   "name": "python3"
  },
  "language_info": {
   "codemirror_mode": {
    "name": "ipython",
    "version": 3
   },
   "file_extension": ".py",
   "mimetype": "text/x-python",
   "name": "python",
   "nbconvert_exporter": "python",
   "pygments_lexer": "ipython3",
   "version": "3.6.7"
  }
 },
 "nbformat": 4,
 "nbformat_minor": 2
}
